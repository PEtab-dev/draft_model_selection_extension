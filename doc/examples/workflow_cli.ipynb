{
 "cells": [
  {
   "cell_type": "markdown",
   "id": "6c1bc86d",
   "metadata": {},
   "source": [
    "# Example usage with the CLI\n",
    "This notebook demonstrates usage of `petab_select` to perform model selection with commands.\n",
    "\n",
    "Note that the criterion values in this notebook are for demonstrative purposes only, and are not real (the models were not calibrated)."
   ]
  },
  {
   "cell_type": "code",
   "execution_count": 1,
   "id": "18dbcbbb",
   "metadata": {},
   "outputs": [],
   "source": [
    "# Cleanup the state and candidate models output by a previous run of this notebook\n",
    "import os\n",
    "\n",
    "try:\n",
    "    os.remove('output/state.dill')\n",
    "except FileNotFoundError:\n",
    "    pass\n",
    "\n",
    "try:\n",
    "    os.remove('output/models.yaml')\n",
    "except FileNotFoundError:\n",
    "    pass"
   ]
  },
  {
   "cell_type": "markdown",
   "id": "9e42ea66",
   "metadata": {},
   "source": [
    "## First iteration"
   ]
  },
  {
   "cell_type": "markdown",
   "id": "427cbd52",
   "metadata": {},
   "source": [
    "In each call to `petab_select search`, the following options are required:\n",
    "- `-y`: The PEtab Select problem YAML file;\n",
    "- `-s`: A file that is used to stored the state of the problem (e.g., such that models are not repeated);\n",
    "- `-o`: A file to store the output of the model space search; and\n",
    "- `-m`: The method used to search or identify models in the model space.\n",
    "\n",
    "Other options can be viewed with `petab_select search --help`."
   ]
  },
  {
   "cell_type": "markdown",
   "id": "db3c4c95",
   "metadata": {},
   "source": [
    "In this initial call, a PEtab Select problem is used to identify possible models for selection. The brute force method is used, which normally outputs all possible models. Here, the number of models in the output is explicitly limited to `3`. Subsequent calls with the same command will output different models."
   ]
  },
  {
   "cell_type": "code",
   "execution_count": 2,
   "id": "eab391ee",
   "metadata": {},
   "outputs": [],
   "source": [
    "%%bash\n",
    "\n",
    "petab_select candidates \\\n",
    "-y model_selection/petab_select_problem.yaml \\\n",
    "-s output/state.dill \\\n",
    "-o output/models.yaml \\\n",
    "-m brute_force \\\n",
    "-l 3"
   ]
  },
  {
   "cell_type": "markdown",
   "id": "0c34cca4",
   "metadata": {},
   "source": [
    "The output format is a list of the PEtab Select model YAML format."
   ]
  },
  {
   "cell_type": "code",
   "execution_count": 3,
   "id": "1f6ac569",
   "metadata": {},
   "outputs": [
    {
     "name": "stdout",
     "output_type": "stream",
     "text": [
      "- criteria: null\n",
      "  estimated_parameters: {}\n",
      "  model_id: M1_0_0\n",
      "  parameters:\n",
      "    k1: 0.0\n",
      "    k2: 0.0\n",
      "    k3: 0.0\n",
      "  petab_yaml: ../model_selection/petab_problem.yaml\n",
      "  predecessor_model_id: null\n",
      "- criteria: null\n",
      "  estimated_parameters: {}\n",
      "  model_id: M1_1_0\n",
      "  parameters:\n",
      "    k1: 0.2\n",
      "    k2: 0.1\n",
      "    k3: estimate\n",
      "  petab_yaml: ../model_selection/petab_problem.yaml\n",
      "  predecessor_model_id: null\n",
      "- criteria: null\n",
      "  estimated_parameters: {}\n",
      "  model_id: M1_2_0\n",
      "  parameters:\n",
      "    k1: 0.2\n",
      "    k2: estimate\n",
      "    k3: 0.0\n",
      "  petab_yaml: ../model_selection/petab_problem.yaml\n",
      "  predecessor_model_id: null\n",
      "\n"
     ]
    }
   ],
   "source": [
    "with open('output/models.yaml', 'r') as f:\n",
    "    print(f.read())"
   ]
  },
  {
   "cell_type": "markdown",
   "id": "8db725d4",
   "metadata": {},
   "source": [
    "## Second iteration"
   ]
  },
  {
   "cell_type": "markdown",
   "id": "d8008447",
   "metadata": {},
   "source": [
    "Between iterations, the models from the first iteration have been calibrated, and the model with the best criterion value is `M1_2_0`. Here, PEtab Select will identify `M1_2_0` as the best model from a YAML file of calibrated models. In the following iterations, a specific model will be provided."
   ]
  },
  {
   "cell_type": "code",
   "execution_count": 4,
   "id": "703da45d",
   "metadata": {},
   "outputs": [
    {
     "name": "stdout",
     "output_type": "stream",
     "text": [
      "- criteria:\n",
      "    AIC: 180\n",
      "  model_id: M1_0_0\n",
      "  parameters:\n",
      "    k1: 0.0\n",
      "    k2: 0.0\n",
      "    k3: 0.0\n",
      "  estimated_parameters: null\n",
      "  petab_yaml: ../model_selection/example_modelSelection.yaml\n",
      "- criteria:\n",
      "    AIC: 100\n",
      "  model_id: M1_1_0\n",
      "  parameters:\n",
      "    k1: 0.2\n",
      "    k2: 0.1\n",
      "    k3: estimate\n",
      "  estimated_parameters:\n",
      "    k3: 0.0\n",
      "  petab_yaml: ../model_selection/example_modelSelection.yaml\n",
      "- criteria:\n",
      "    AIC: 50\n",
      "  model_id: M1_2_0\n",
      "  parameters:\n",
      "    k1: 0.2\n",
      "    k2: estimate\n",
      "    k3: 0.0\n",
      "  estimated_parameters:\n",
      "    k2: 0.05\n",
      "  petab_yaml: ../model_selection/example_modelSelection.yaml\n",
      "\n",
      "\n",
      "\n"
     ]
    }
   ],
   "source": [
    "with open('model_selection/calibrated/calibrated_first_iteration.yaml', 'r') as f:\n",
    "    print(f.read())"
   ]
  },
  {
   "cell_type": "markdown",
   "id": "839a1b35",
   "metadata": {},
   "source": [
    "This is used as the initial model for the next search, this time using the forward method. The same state file can be used in each call. If the output file already exists, it will be overwritten."
   ]
  },
  {
   "cell_type": "code",
   "execution_count": 5,
   "id": "22dfcc1f",
   "metadata": {},
   "outputs": [],
   "source": [
    "%%bash\n",
    "\n",
    "petab_select candidates \\\n",
    "-y model_selection/petab_select_problem.yaml \\\n",
    "-s output/state.dill \\\n",
    "-o output/models.yaml \\\n",
    "-m forward \\\n",
    "-b model_selection/calibrated/calibrated_first_iteration.yaml"
   ]
  },
  {
   "cell_type": "markdown",
   "id": "ac1f8a5f",
   "metadata": {},
   "source": [
    "`M1_2_0` has one estimated parameter, `k2` [1]. As expected, the new candidates identified with the forward method have two estimated parameters, and one of them is `k2`.\n",
    "\n",
    "[1] There may be additional estimated parameters specified in the PEtab problem."
   ]
  },
  {
   "cell_type": "code",
   "execution_count": 6,
   "id": "dd2f8850",
   "metadata": {},
   "outputs": [
    {
     "name": "stdout",
     "output_type": "stream",
     "text": [
      "- criteria: null\n",
      "  estimated_parameters: {}\n",
      "  model_id: M1_4_0\n",
      "  parameters:\n",
      "    k1: 0.2\n",
      "    k2: estimate\n",
      "    k3: estimate\n",
      "  petab_yaml: ../model_selection/petab_problem.yaml\n",
      "  predecessor_model_id: null\n",
      "- criteria: null\n",
      "  estimated_parameters: {}\n",
      "  model_id: M1_6_0\n",
      "  parameters:\n",
      "    k1: estimate\n",
      "    k2: estimate\n",
      "    k3: 0.0\n",
      "  petab_yaml: ../model_selection/petab_problem.yaml\n",
      "  predecessor_model_id: null\n",
      "\n"
     ]
    }
   ],
   "source": [
    "with open('output/models.yaml', 'r') as f:\n",
    "    print(f.read())"
   ]
  },
  {
   "cell_type": "markdown",
   "id": "541a3e5d",
   "metadata": {},
   "source": [
    "## Third iteration"
   ]
  },
  {
   "cell_type": "markdown",
   "id": "afba880c",
   "metadata": {},
   "source": [
    "Models `M1_4_0` and `M1_6_0` were calibrated, with `M1_4_0` having the superior criterion value, so is used as the initial model in the next forward search."
   ]
  },
  {
   "cell_type": "code",
   "execution_count": 7,
   "id": "54c5b027",
   "metadata": {},
   "outputs": [
    {
     "name": "stdout",
     "output_type": "stream",
     "text": [
      "criteria:\n",
      "  AIC: 30\n",
      "model_id: M1_4_0\n",
      "parameters:\n",
      "  k1: 0.2\n",
      "  k2: estimate\n",
      "  k3: estimate\n",
      "estimated_parameters:\n",
      "  k2: 0.15\n",
      "  k3: 0.0\n",
      "petab_yaml: ../model_selection/example_modelSelection.yaml\n",
      "\n"
     ]
    }
   ],
   "source": [
    "with open('model_selection/calibrated/M1_4_0.yaml', 'r') as f:\n",
    "    print(f.read())"
   ]
  },
  {
   "cell_type": "code",
   "execution_count": 8,
   "id": "818e59e4",
   "metadata": {},
   "outputs": [],
   "source": [
    "%%bash\n",
    "\n",
    "petab_select candidates \\\n",
    "-y model_selection/petab_select_problem.yaml \\\n",
    "-s output/state.dill \\\n",
    "-o output/models.yaml \\\n",
    "-m forward \\\n",
    "-i model_selection/calibrated/M1_4_0.yaml"
   ]
  },
  {
   "cell_type": "markdown",
   "id": "889dedc1",
   "metadata": {},
   "source": [
    "The model space contains only one model with 3 or more estimated parameters, which is a valid candidate model in this case."
   ]
  },
  {
   "cell_type": "code",
   "execution_count": 9,
   "id": "9f393030",
   "metadata": {},
   "outputs": [
    {
     "name": "stdout",
     "output_type": "stream",
     "text": [
      "- criteria: null\n",
      "  estimated_parameters: {}\n",
      "  model_id: M1_7_0\n",
      "  parameters:\n",
      "    k1: estimate\n",
      "    k2: estimate\n",
      "    k3: estimate\n",
      "  petab_yaml: ../model_selection/petab_problem.yaml\n",
      "  predecessor_model_id: null\n",
      "\n"
     ]
    }
   ],
   "source": [
    "with open('output/models.yaml', 'r') as f:\n",
    "    print(f.read())"
   ]
  },
  {
   "cell_type": "markdown",
   "id": "de959e53",
   "metadata": {},
   "source": [
    "## Fourth iteration\n",
    "As there are no models in the model space with additional estimated parameters, subsequent forward searches will return no candidate models."
   ]
  },
  {
   "cell_type": "code",
   "execution_count": 10,
   "id": "9ef2fe2f",
   "metadata": {},
   "outputs": [
    {
     "name": "stdout",
     "output_type": "stream",
     "text": [
      "criteria:\n",
      "  AIC: 20\n",
      "model_id: M1_7_0\n",
      "parameters:\n",
      "  k1: estimate\n",
      "  k2: estimate\n",
      "  k3: estimate\n",
      "estimated_parameters:\n",
      "  k1: 0.25\n",
      "  k2: 0.1\n",
      "  k3: 0.0\n",
      "petab_yaml: ../model_selection/example_modelSelection.yaml\n",
      "\n"
     ]
    }
   ],
   "source": [
    "with open('model_selection/calibrated/M1_7_0.yaml', 'r') as f:\n",
    "    print(f.read())"
   ]
  },
  {
   "cell_type": "code",
   "execution_count": 11,
   "id": "5afa0d08",
   "metadata": {},
   "outputs": [],
   "source": [
    "%%bash\n",
    "\n",
    "petab_select candidates \\\n",
    "-y model_selection/petab_select_problem.yaml \\\n",
    "-s output/state.dill \\\n",
    "-o output/models.yaml \\\n",
    "-m forward \\\n",
    "-i model_selection/calibrated/M1_7_0.yaml"
   ]
  },
  {
   "cell_type": "code",
   "execution_count": 12,
   "id": "97cdb98d",
   "metadata": {},
   "outputs": [
    {
     "name": "stdout",
     "output_type": "stream",
     "text": [
      "null\n",
      "...\n",
      "\n"
     ]
    }
   ],
   "source": [
    "with open('output/models.yaml', 'r') as f:\n",
    "    print(f.read())"
   ]
  },
  {
   "cell_type": "markdown",
   "id": "7b0b1123",
   "metadata": {},
   "source": [
    "## Fifth iteration\n",
    "Although no additional models are found with a forward search initialized at the best model so far (`M1_7_0`), there are additional models in the model space that are yet to be calibrated, which can be identified with the brute force method."
   ]
  },
  {
   "cell_type": "code",
   "execution_count": 13,
   "id": "d5b5087d",
   "metadata": {},
   "outputs": [],
   "source": [
    "%%bash\n",
    "\n",
    "petab_select candidates \\\n",
    "-y model_selection/petab_select_problem.yaml \\\n",
    "-s output/state.dill \\\n",
    "-o output/models.yaml \\\n",
    "-m brute_force"
   ]
  },
  {
   "cell_type": "code",
   "execution_count": 14,
   "id": "30721bfa",
   "metadata": {},
   "outputs": [
    {
     "name": "stdout",
     "output_type": "stream",
     "text": [
      "- criteria: null\n",
      "  estimated_parameters: {}\n",
      "  model_id: M1_3_0\n",
      "  parameters:\n",
      "    k1: estimate\n",
      "    k2: 0.1\n",
      "    k3: 0.0\n",
      "  petab_yaml: ../model_selection/petab_problem.yaml\n",
      "  predecessor_model_id: null\n",
      "- criteria: null\n",
      "  estimated_parameters: {}\n",
      "  model_id: M1_5_0\n",
      "  parameters:\n",
      "    k1: estimate\n",
      "    k2: 0.1\n",
      "    k3: estimate\n",
      "  petab_yaml: ../model_selection/petab_problem.yaml\n",
      "  predecessor_model_id: null\n",
      "\n"
     ]
    }
   ],
   "source": [
    "with open('output/models.yaml', 'r') as f:\n",
    "    print(f.read())"
   ]
  },
  {
   "cell_type": "markdown",
   "id": "655f8efc",
   "metadata": {},
   "source": [
    "# Post-processing\n",
    "After the selection algorithm has terminated, the best model can be stored separately by supplying a list of calibrated models."
   ]
  },
  {
   "cell_type": "code",
   "execution_count": 16,
   "id": "73d54111",
   "metadata": {},
   "outputs": [],
   "source": [
    "%%bash\n",
    "\n",
    "petab_select best \\\n",
    "-y model_selection/petab_select_problem.yaml \\\n",
    "-m model_selection/calibrated/calibrated_first_iteration.yaml \\\n",
    "-o output/best_model.yaml \\\n",
    "-s output/state.dill"
   ]
  },
  {
   "cell_type": "code",
   "execution_count": 17,
   "id": "c36564f1",
   "metadata": {},
   "outputs": [
    {
     "name": "stdout",
     "output_type": "stream",
     "text": [
      "criteria:\n",
      "  AIC: 50\n",
      "estimated_parameters:\n",
      "  k2: 0.05\n",
      "model_id: M1_2_0\n",
      "parameters:\n",
      "  k1: 0.2\n",
      "  k2: estimate\n",
      "  k3: 0.0\n",
      "petab_yaml: ../model_selection/example_modelSelection.yaml\n",
      "predecessor_model_id: null\n",
      "\n"
     ]
    }
   ],
   "source": [
    "with open('output/best_model.yaml', 'r') as f:\n",
    "    print(f.read())"
   ]
  }
 ],
 "metadata": {
  "kernelspec": {
   "display_name": "Python 3",
   "language": "python",
   "name": "python3"
  },
  "language_info": {
   "codemirror_mode": {
    "name": "ipython",
    "version": 3
   },
   "file_extension": ".py",
   "mimetype": "text/x-python",
   "name": "python",
   "nbconvert_exporter": "python",
   "pygments_lexer": "ipython3",
   "version": "3.8.10"
  }
 },
 "nbformat": 4,
 "nbformat_minor": 5
}
