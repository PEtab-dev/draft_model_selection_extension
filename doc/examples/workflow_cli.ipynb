{
 "cells": [
  {
   "cell_type": "markdown",
   "id": "6c1bc86d",
   "metadata": {},
   "source": [
    "# Example usage with the CLI\n",
    "This notebook demonstrates usage of `petab_select` to perform model selection with commands.\n",
    "\n",
    "Note that the criterion values in this notebook are for demonstrative purposes only, and are not real (the models were not calibrated)."
   ]
  },
  {
   "cell_type": "code",
   "execution_count": 1,
   "id": "18dbcbbb",
   "metadata": {},
   "outputs": [],
   "source": [
    "# Cleanup the state and candidate models output by a previous run of this notebook\n",
    "import os\n",
    "\n",
    "try:\n",
    "    os.remove('output/state.dill')\n",
    "except FileNotFoundError:\n",
    "    pass\n",
    "\n",
    "try:\n",
    "    os.remove('output/models.yaml')\n",
    "except FileNotFoundError:\n",
    "    pass"
   ]
  },
  {
   "cell_type": "markdown",
   "id": "9e42ea66",
   "metadata": {},
   "source": [
    "## First iteration"
   ]
  },
  {
   "cell_type": "markdown",
   "id": "427cbd52",
   "metadata": {},
   "source": [
    "In each call to `petab_select search`, the following options are required:\n",
    "- `-y`: The PEtab Select problem YAML file;\n",
    "- `-s`: A file that is used to stored the state of the problem (e.g., such that models are not repeated);\n",
    "- `-o`: A file to store the output of the model space search; and\n",
    "- `-m`: The method used to search or identify models in the model space.\n",
    "\n",
    "Other options can be viewed with `petab_select search --help`."
   ]
  },
  {
   "cell_type": "markdown",
   "id": "db3c4c95",
   "metadata": {},
   "source": [
    "In this initial call, a PEtab Select problem is used to identify possible models for selection. The brute force method is used, which normally outputs all possible models. Here, the number of models in the output is explicitly limited to `3`. Subsequent calls with the same command will output different models."
   ]
  },
  {
   "cell_type": "code",
   "execution_count": 2,
   "id": "eab391ee",
   "metadata": {},
   "outputs": [
    {
     "name": "stderr",
     "output_type": "stream",
     "text": [
      "/home/dilan/Documents/future_annex/model_selection/packages/petab_select/petab_select/model_subspace.py:236: UserWarning: The candidate space has already reached its limit of accepted models.\n",
      "  warnings.warn('The candidate space has already reached its limit of accepted models.')  # noqa: E501\n"
     ]
    }
   ],
   "source": [
    "%%bash\n",
    "\n",
    "petab_select candidates \\\n",
    "-y model_selection/petab_select_problem.yaml \\\n",
    "-s output/state.dill \\\n",
    "-o output/models_1.yaml \\\n",
    "-m brute_force \\\n",
    "--relative-paths \\\n",
    "-l 3"
   ]
  },
  {
   "cell_type": "markdown",
   "id": "0c34cca4",
   "metadata": {},
   "source": [
    "The output format is a list of the PEtab Select model YAML format."
   ]
  },
  {
   "cell_type": "code",
   "execution_count": 3,
   "id": "1f6ac569",
   "metadata": {},
   "outputs": [
    {
     "name": "stdout",
     "output_type": "stream",
     "text": [
      "- criteria: {}\n",
      "  estimated_parameters: {}\n",
      "  model_hash: 65f94e223024ef684fe3e1a3aa2a54cc3ffd08895fbe4539512522d49d703ceda483aff4aa207b160dc358c458b76b25d88fbd94cacfc78bd0c70f4a46a42191\n",
      "  model_id: 65f94e223024ef684fe3e1a3aa2a54cc3ffd08895fbe4539512522d49d703ceda483aff4aa207b160dc358c458b76b25d88fbd94cacfc78bd0c70f4a46a42191\n",
      "  model_subspace_id: M1_0\n",
      "  model_subspace_indices:\n",
      "  - 0\n",
      "  - 0\n",
      "  - 0\n",
      "  parameters:\n",
      "    k1: 0\n",
      "    k2: 0\n",
      "    k3: 0\n",
      "  petab_yaml: ../model_selection/petab_problem.yaml\n",
      "  predecessor_model_hash: null\n",
      "- criteria: {}\n",
      "  estimated_parameters: {}\n",
      "  model_hash: 112c344171a01874a0b400640c2e0f72f2924b91712966cb868bf53b6d8ce2d09bb8e56f52b5aaca506a64754629147047646ea0c0cf568d76e74df2c5e2487a\n",
      "  model_id: 112c344171a01874a0b400640c2e0f72f2924b91712966cb868bf53b6d8ce2d09bb8e56f52b5aaca506a64754629147047646ea0c0cf568d76e74df2c5e2487a\n",
      "  model_subspace_id: M1_1\n",
      "  model_subspace_indices:\n",
      "  - 0\n",
      "  - 0\n",
      "  - 0\n",
      "  parameters:\n",
      "    k1: 0.2\n",
      "    k2: 0.1\n",
      "    k3: estimate\n",
      "  petab_yaml: ../model_selection/petab_problem.yaml\n",
      "  predecessor_model_hash: null\n",
      "- criteria: {}\n",
      "  estimated_parameters: {}\n",
      "  model_hash: df2e1cd0744275a154036b1e1b09eaa67a76f4c08615b3e36849e3eaddcb05d1ccaedb62d148abcc41579314b2e8bec2871a8f925e3d53b90c0a4c6e9ea098ab\n",
      "  model_id: df2e1cd0744275a154036b1e1b09eaa67a76f4c08615b3e36849e3eaddcb05d1ccaedb62d148abcc41579314b2e8bec2871a8f925e3d53b90c0a4c6e9ea098ab\n",
      "  model_subspace_id: M1_2\n",
      "  model_subspace_indices:\n",
      "  - 0\n",
      "  - 0\n",
      "  - 0\n",
      "  parameters:\n",
      "    k1: 0.2\n",
      "    k2: estimate\n",
      "    k3: 0\n",
      "  petab_yaml: ../model_selection/petab_problem.yaml\n",
      "  predecessor_model_hash: null\n",
      "\n"
     ]
    }
   ],
   "source": [
    "with open('output/models_1.yaml', 'r') as f:\n",
    "    print(f.read())"
   ]
  },
  {
   "cell_type": "markdown",
   "id": "8db725d4",
   "metadata": {},
   "source": [
    "## Second iteration"
   ]
  },
  {
   "cell_type": "markdown",
   "id": "d8008447",
   "metadata": {},
   "source": [
    "Between iterations, the models from the first iteration have been calibrated, and the model with the best criterion value is `M1_2_0`. Here, PEtab Select will identify `M1_2_0` as the best model from a YAML file of calibrated models. In the following iterations, a specific model will be provided."
   ]
  },
  {
   "cell_type": "code",
   "execution_count": 4,
   "id": "703da45d",
   "metadata": {},
   "outputs": [
    {
     "name": "stdout",
     "output_type": "stream",
     "text": [
      "- criteria:\n",
      "    AIC: 180\n",
      "  model_id: M1_0_0\n",
      "  parameters:\n",
      "    k1: 0.0\n",
      "    k2: 0.0\n",
      "    k3: 0.0\n",
      "  estimated_parameters: null\n",
      "  petab_yaml: ../petab_problem.yaml\n",
      "- criteria:\n",
      "    AIC: 100\n",
      "  model_id: M1_1_0\n",
      "  parameters:\n",
      "    k1: 0.2\n",
      "    k2: 0.1\n",
      "    k3: estimate\n",
      "  estimated_parameters:\n",
      "    k3: 0.0\n",
      "  petab_yaml: ../petab_problem.yaml\n",
      "- criteria:\n",
      "    AIC: 50\n",
      "  model_id: M1_2_0\n",
      "  parameters:\n",
      "    k1: 0.2\n",
      "    k2: estimate\n",
      "    k3: 0.0\n",
      "  estimated_parameters:\n",
      "    k2: 0.05\n",
      "  petab_yaml: ../petab_problem.yaml\n",
      "\n",
      "\n",
      "\n"
     ]
    }
   ],
   "source": [
    "with open('model_selection/calibrated/calibrated_first_iteration.yaml', 'r') as f:\n",
    "    print(f.read())"
   ]
  },
  {
   "cell_type": "markdown",
   "id": "839a1b35",
   "metadata": {},
   "source": [
    "This is used as the predecessor model for the next search, this time using the forward method. The same state file can be used in each call. If the output file already exists, it will be overwritten."
   ]
  },
  {
   "cell_type": "code",
   "execution_count": 5,
   "id": "22dfcc1f",
   "metadata": {},
   "outputs": [],
   "source": [
    "%%bash\n",
    "\n",
    "petab_select candidates \\\n",
    "-y model_selection/petab_select_problem.yaml \\\n",
    "-s output/state.dill \\\n",
    "-o output/models_2.yaml \\\n",
    "-m forward \\\n",
    "-b model_selection/calibrated/calibrated_first_iteration.yaml \\\n",
    "--relative-paths"
   ]
  },
  {
   "cell_type": "markdown",
   "id": "ac1f8a5f",
   "metadata": {},
   "source": [
    "`M1_2_0` has one estimated parameter, `k2` [1]. As expected, the new candidates identified with the forward method have two estimated parameters, and one of them is `k2`.\n",
    "\n",
    "[1] There may be additional estimated parameters specified in the PEtab problem."
   ]
  },
  {
   "cell_type": "code",
   "execution_count": 6,
   "id": "dd2f8850",
   "metadata": {},
   "outputs": [
    {
     "name": "stdout",
     "output_type": "stream",
     "text": [
      "- criteria: {}\n",
      "  estimated_parameters: {}\n",
      "  model_hash: 38c95dd428b3e31da6969a50db4a1ccbcefe6d8824617d27ec2360e57d55647a25f3fdd45e5f0270786698606cbe496cd94be9495986dade4d1f1d166a4bf911\n",
      "  model_id: 38c95dd428b3e31da6969a50db4a1ccbcefe6d8824617d27ec2360e57d55647a25f3fdd45e5f0270786698606cbe496cd94be9495986dade4d1f1d166a4bf911\n",
      "  model_subspace_id: M1_4\n",
      "  model_subspace_indices:\n",
      "  - 0\n",
      "  - 0\n",
      "  - 0\n",
      "  parameters:\n",
      "    k1: 0.2\n",
      "    k2: estimate\n",
      "    k3: estimate\n",
      "  petab_yaml: ../model_selection/petab_problem.yaml\n",
      "  predecessor_model_hash: b91dd6d1144253c4462597de1fff07cb20c6e45ab33d55a8282bf2b3df25d1226ad19baf488a96852a626df1b56e1e618929f0c0627ed6f2c3f69ebb0bcbb6fc\n",
      "- criteria: {}\n",
      "  estimated_parameters: {}\n",
      "  model_hash: db8700c079c8347123adc89b7f5112256c4aaebd2af0f6e32e7582f398b2c1e5e85e588cdcc56bab054c001b96a9b42b02174266927f879d7f78e8ac5d2c33e6\n",
      "  model_id: db8700c079c8347123adc89b7f5112256c4aaebd2af0f6e32e7582f398b2c1e5e85e588cdcc56bab054c001b96a9b42b02174266927f879d7f78e8ac5d2c33e6\n",
      "  model_subspace_id: M1_6\n",
      "  model_subspace_indices:\n",
      "  - 0\n",
      "  - 0\n",
      "  - 0\n",
      "  parameters:\n",
      "    k1: estimate\n",
      "    k2: estimate\n",
      "    k3: 0\n",
      "  petab_yaml: ../model_selection/petab_problem.yaml\n",
      "  predecessor_model_hash: b91dd6d1144253c4462597de1fff07cb20c6e45ab33d55a8282bf2b3df25d1226ad19baf488a96852a626df1b56e1e618929f0c0627ed6f2c3f69ebb0bcbb6fc\n",
      "\n"
     ]
    }
   ],
   "source": [
    "with open('output/models_2.yaml', 'r') as f:\n",
    "    print(f.read())"
   ]
  },
  {
   "cell_type": "markdown",
   "id": "541a3e5d",
   "metadata": {},
   "source": [
    "## Third iteration"
   ]
  },
  {
   "cell_type": "markdown",
   "id": "afba880c",
   "metadata": {},
   "source": [
    "Models `M1_4_0` and `M1_6_0` were calibrated, with `M1_4_0` having the superior criterion value, so is used as the predecessor model in the next forward search."
   ]
  },
  {
   "cell_type": "code",
   "execution_count": 7,
   "id": "54c5b027",
   "metadata": {},
   "outputs": [
    {
     "name": "stdout",
     "output_type": "stream",
     "text": [
      "criteria:\n",
      "  AIC: 30\n",
      "model_id: M1_4_0\n",
      "parameters:\n",
      "  k1: 0.2\n",
      "  k2: estimate\n",
      "  k3: estimate\n",
      "estimated_parameters:\n",
      "  k2: 0.15\n",
      "  k3: 0.0\n",
      "petab_yaml: ../petab_problem.yaml\n",
      "\n"
     ]
    }
   ],
   "source": [
    "with open('model_selection/calibrated/M1_4_0.yaml', 'r') as f:\n",
    "    print(f.read())"
   ]
  },
  {
   "cell_type": "code",
   "execution_count": 8,
   "id": "818e59e4",
   "metadata": {},
   "outputs": [],
   "source": [
    "%%bash\n",
    "\n",
    "petab_select candidates \\\n",
    "-y model_selection/petab_select_problem.yaml \\\n",
    "-s output/state.dill \\\n",
    "-o output/models_3.yaml \\\n",
    "-m forward \\\n",
    "-p model_selection/calibrated/M1_4_0.yaml \\\n",
    "--relative-paths"
   ]
  },
  {
   "cell_type": "markdown",
   "id": "889dedc1",
   "metadata": {},
   "source": [
    "The model space contains only one model with 3 or more estimated parameters, which is a valid candidate model in this case."
   ]
  },
  {
   "cell_type": "code",
   "execution_count": 9,
   "id": "9f393030",
   "metadata": {},
   "outputs": [
    {
     "name": "stdout",
     "output_type": "stream",
     "text": [
      "- criteria: {}\n",
      "  estimated_parameters: {}\n",
      "  model_hash: 7c105406ec11716473939a0bbb5281066c1014b54e2480ba126030f5c18a597a27a2ca9247aa60d8262f488165079d1c9e040f9d712ec4e19c2d2122a586f3e5\n",
      "  model_id: 7c105406ec11716473939a0bbb5281066c1014b54e2480ba126030f5c18a597a27a2ca9247aa60d8262f488165079d1c9e040f9d712ec4e19c2d2122a586f3e5\n",
      "  model_subspace_id: M1_7\n",
      "  model_subspace_indices:\n",
      "  - 0\n",
      "  - 0\n",
      "  - 0\n",
      "  parameters:\n",
      "    k1: estimate\n",
      "    k2: estimate\n",
      "    k3: estimate\n",
      "  petab_yaml: ../model_selection/petab_problem.yaml\n",
      "  predecessor_model_hash: 3a5dadef211388a3da6610b1c057d16a135dcddd5273efa88b1875bbafb153afeb4398a8ed02cf04e0fa7c04348265bebe2b02b8c0def80e2fb6f329e469e7f7\n",
      "\n"
     ]
    }
   ],
   "source": [
    "with open('output/models_3.yaml', 'r') as f:\n",
    "    print(f.read())"
   ]
  },
  {
   "cell_type": "markdown",
   "id": "de959e53",
   "metadata": {},
   "source": [
    "## Fourth iteration\n",
    "As there are no models in the model space with additional estimated parameters, subsequent forward searches will return no candidate models."
   ]
  },
  {
   "cell_type": "code",
   "execution_count": 10,
   "id": "9ef2fe2f",
   "metadata": {},
   "outputs": [
    {
     "name": "stdout",
     "output_type": "stream",
     "text": [
      "criteria:\n",
      "  AIC: 20\n",
      "model_id: M1_7_0\n",
      "parameters:\n",
      "  k1: estimate\n",
      "  k2: estimate\n",
      "  k3: estimate\n",
      "estimated_parameters:\n",
      "  k1: 0.25\n",
      "  k2: 0.1\n",
      "  k3: 0.0\n",
      "petab_yaml: ../petab_problem.yaml\n",
      "\n"
     ]
    }
   ],
   "source": [
    "with open('model_selection/calibrated/M1_7_0.yaml', 'r') as f:\n",
    "    print(f.read())"
   ]
  },
  {
   "cell_type": "code",
   "execution_count": 11,
   "id": "5afa0d08",
   "metadata": {},
   "outputs": [],
   "source": [
    "%%bash\n",
    "\n",
    "petab_select candidates \\\n",
    "-y model_selection/petab_select_problem.yaml \\\n",
    "-s output/state.dill \\\n",
    "-o output/models_4.yaml \\\n",
    "-m forward \\\n",
    "-p model_selection/calibrated/M1_7_0.yaml \\\n",
    "--relative-paths"
   ]
  },
  {
   "cell_type": "code",
   "execution_count": 12,
   "id": "97cdb98d",
   "metadata": {},
   "outputs": [
    {
     "name": "stdout",
     "output_type": "stream",
     "text": [
      "null\n",
      "...\n",
      "\n"
     ]
    }
   ],
   "source": [
    "with open('output/models_4.yaml', 'r') as f:\n",
    "    print(f.read())"
   ]
  },
  {
   "cell_type": "markdown",
   "id": "7b0b1123",
   "metadata": {},
   "source": [
    "## Fifth iteration\n",
    "Although no additional models are found with a forward search initialized at the best model so far (`M1_7_0`), there are additional models in the model space that are yet to be calibrated, which can be identified with the brute force method."
   ]
  },
  {
   "cell_type": "code",
   "execution_count": 13,
   "id": "d5b5087d",
   "metadata": {},
   "outputs": [],
   "source": [
    "%%bash\n",
    "\n",
    "petab_select candidates \\\n",
    "-y model_selection/petab_select_problem.yaml \\\n",
    "-s output/state.dill \\\n",
    "-o output/models.yaml \\\n",
    "-m brute_force \\\n",
    "-e output/models_1.yaml \\\n",
    "-e output/models_2.yaml \\\n",
    "-e output/models_3.yaml \\\n",
    "-e output/models_4.yaml \\\n",
    "--relative-paths"
   ]
  },
  {
   "cell_type": "code",
   "execution_count": 14,
   "id": "30721bfa",
   "metadata": {},
   "outputs": [
    {
     "name": "stdout",
     "output_type": "stream",
     "text": [
      "- criteria: {}\n",
      "  estimated_parameters: {}\n",
      "  model_hash: b7584bfd6f35206dfe32fa0143e53cea808faf965e0c0547bf6ee1cdce7a75cd3ff0aa2bcb1faa27625166454f83e3fcac52cdf43b28e8186fff9a01ac3f8006\n",
      "  model_id: b7584bfd6f35206dfe32fa0143e53cea808faf965e0c0547bf6ee1cdce7a75cd3ff0aa2bcb1faa27625166454f83e3fcac52cdf43b28e8186fff9a01ac3f8006\n",
      "  model_subspace_id: M1_3\n",
      "  model_subspace_indices:\n",
      "  - 0\n",
      "  - 0\n",
      "  - 0\n",
      "  parameters:\n",
      "    k1: estimate\n",
      "    k2: 0.1\n",
      "    k3: 0\n",
      "  petab_yaml: ../model_selection/petab_problem.yaml\n",
      "  predecessor_model_hash: null\n",
      "- criteria: {}\n",
      "  estimated_parameters: {}\n",
      "  model_hash: de4a2f17d8b0228a31d7451631cf3662d0ecf4dc7738ab6ca3d1de65e817844c9c1df806ec9daf81644b9c10f00185dc8c8de880d9db23a98acadb817f5d481c\n",
      "  model_id: de4a2f17d8b0228a31d7451631cf3662d0ecf4dc7738ab6ca3d1de65e817844c9c1df806ec9daf81644b9c10f00185dc8c8de880d9db23a98acadb817f5d481c\n",
      "  model_subspace_id: M1_5\n",
      "  model_subspace_indices:\n",
      "  - 0\n",
      "  - 0\n",
      "  - 0\n",
      "  parameters:\n",
      "    k1: estimate\n",
      "    k2: 0.1\n",
      "    k3: estimate\n",
      "  petab_yaml: ../model_selection/petab_problem.yaml\n",
      "  predecessor_model_hash: null\n",
      "\n"
     ]
    }
   ],
   "source": [
    "with open('output/models.yaml', 'r') as f:\n",
    "    print(f.read())"
   ]
  },
  {
   "cell_type": "markdown",
   "id": "655f8efc",
   "metadata": {},
   "source": [
    "# Post-processing\n",
    "After the selection algorithm has terminated, the best model can be stored separately by supplying a list of calibrated models."
   ]
  },
  {
   "cell_type": "code",
   "execution_count": 15,
   "id": "73d54111",
   "metadata": {},
   "outputs": [],
   "source": [
    "%%bash\n",
    "\n",
    "petab_select best \\\n",
    "-y model_selection/petab_select_problem.yaml \\\n",
    "-m model_selection/calibrated/calibrated_first_iteration.yaml \\\n",
    "-o output/best_model.yaml \\\n",
    "-s output/state.dill \\\n",
    "--relative-paths"
   ]
  },
  {
   "cell_type": "code",
   "execution_count": 16,
   "id": "c36564f1",
   "metadata": {},
   "outputs": [
    {
     "name": "stdout",
     "output_type": "stream",
     "text": [
      "criteria:\n",
      "  AIC: 50\n",
      "estimated_parameters:\n",
      "  k2: 0.05\n",
      "model_hash: null\n",
      "model_id: M1_2_0\n",
      "model_subspace_id: null\n",
      "model_subspace_indices: null\n",
      "parameters:\n",
      "  k1: 0.2\n",
      "  k2: estimate\n",
      "  k3: 0.0\n",
      "petab_yaml: ../model_selection/petab_problem.yaml\n",
      "predecessor_model_hash: null\n",
      "\n"
     ]
    }
   ],
   "source": [
    "with open('output/best_model.yaml', 'r') as f:\n",
    "    print(f.read())"
   ]
  },
  {
   "cell_type": "markdown",
   "id": "e610bb84",
   "metadata": {},
   "source": [
    "This model can be converted to a PEtab problem with either `model_to_petab` or `models_to_petab`."
   ]
  },
  {
   "cell_type": "code",
   "execution_count": 17,
   "id": "d5d03cd6",
   "metadata": {},
   "outputs": [
    {
     "name": "stdout",
     "output_type": "stream",
     "text": [
      "output/best_model_petab/problem.yaml\n"
     ]
    }
   ],
   "source": [
    "%%bash\n",
    "\n",
    "petab_select model_to_petab \\\n",
    "-y output/best_model.yaml \\\n",
    "-o output/best_model_petab"
   ]
  }
 ],
 "metadata": {
  "kernelspec": {
   "display_name": "Python 3",
   "language": "python",
   "name": "python3"
  },
  "language_info": {
   "codemirror_mode": {
    "name": "ipython",
    "version": 3
   },
   "file_extension": ".py",
   "mimetype": "text/x-python",
   "name": "python",
   "nbconvert_exporter": "python",
   "pygments_lexer": "ipython3",
   "version": "3.8.10"
  }
 },
 "nbformat": 4,
 "nbformat_minor": 5
}
