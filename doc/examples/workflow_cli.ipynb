{
 "cells": [
  {
   "cell_type": "markdown",
   "id": "6c1bc86d",
   "metadata": {},
   "source": [
    "# Example usage with the CLI\n",
    "This notebook demonstrates usage of `petab_select` to perform model selection with commands.\n",
    "\n",
    "Note that the criterion values in this notebook are for demonstrative purposes only, and are not real (the models were not calibrated)."
   ]
  },
  {
   "cell_type": "code",
   "execution_count": 1,
   "id": "18dbcbbb",
   "metadata": {},
   "outputs": [],
   "source": [
    "# Cleanup the state and candidate models output by a previous run of this notebook\n",
    "import os\n",
    "\n",
    "try:\n",
    "    os.remove('output/state.dill')\n",
    "except FileNotFoundError:\n",
    "    pass\n",
    "\n",
    "try:\n",
    "    os.remove('output/models.yaml')\n",
    "except FileNotFoundError:\n",
    "    pass"
   ]
  },
  {
   "cell_type": "markdown",
   "id": "9e42ea66",
   "metadata": {},
   "source": [
    "## First iteration"
   ]
  },
  {
   "cell_type": "markdown",
   "id": "427cbd52",
   "metadata": {},
   "source": [
    "In each call to `petab_select search`, the following options are required:\n",
    "- `-y`: The PEtab Select problem YAML file;\n",
    "- `-s`: A file that is used to stored the state of the problem (e.g., such that models are not repeated);\n",
    "- `-o`: A file to store the output of the model space search; and\n",
    "- `-m`: The method used to search or identify models in the model space.\n",
    "\n",
    "Other options can be viewed with `petab_select search --help`."
   ]
  },
  {
   "cell_type": "markdown",
   "id": "db3c4c95",
   "metadata": {},
   "source": [
    "In this initial call, a PEtab Select problem is used to identify possible models for selection. The brute force method is used, which normally outputs all possible models. Here, the number of models in the output is explicitly limited to `3`. Subsequent calls with the same command will output different models."
   ]
  },
  {
   "cell_type": "code",
   "execution_count": 2,
   "id": "eab391ee",
   "metadata": {},
   "outputs": [],
   "source": [
    "%%bash\n",
    "\n",
    "petab_select search \\\n",
    "-y model_selection/selection_problem.yaml \\\n",
    "-s output/state.dill \\\n",
    "-o output/models.yaml \\\n",
    "-m brute_force \\\n",
    "-l 3"
   ]
  },
  {
   "cell_type": "markdown",
   "id": "0c34cca4",
   "metadata": {},
   "source": [
    "The output format is a list of the PEtab Select model YAML format."
   ]
  },
  {
   "cell_type": "code",
   "execution_count": 3,
   "id": "1f6ac569",
   "metadata": {},
   "outputs": [
    {
     "name": "stdout",
     "output_type": "stream",
     "text": [
      "- criteria: null\n",
      "  model_id: M1_0_0\n",
      "  parameters:\n",
      "    k1: 0.0\n",
      "    k2: 0.0\n",
      "    k3: 0.0\n",
      "  petab_yaml: model_selection/example_modelSelection.yaml\n",
      "- criteria: null\n",
      "  model_id: M1_1_0\n",
      "  parameters:\n",
      "    k1: 0.2\n",
      "    k2: 0.1\n",
      "    k3: estimate\n",
      "  petab_yaml: model_selection/example_modelSelection.yaml\n",
      "- criteria: null\n",
      "  model_id: M1_2_0\n",
      "  parameters:\n",
      "    k1: 0.2\n",
      "    k2: estimate\n",
      "    k3: 0.0\n",
      "  petab_yaml: model_selection/example_modelSelection.yaml\n",
      "\n"
     ]
    }
   ],
   "source": [
    "with open('output/models.yaml', 'r') as f:\n",
    "    print(f.read())"
   ]
  },
  {
   "cell_type": "markdown",
   "id": "8db725d4",
   "metadata": {},
   "source": [
    "## Second iteration"
   ]
  },
  {
   "cell_type": "markdown",
   "id": "d8008447",
   "metadata": {},
   "source": [
    "The models from the first iteration have been calibrated, and the model with the best criterion value is `M1_1_0`."
   ]
  },
  {
   "cell_type": "code",
   "execution_count": 4,
   "id": "703da45d",
   "metadata": {},
   "outputs": [
    {
     "name": "stdout",
     "output_type": "stream",
     "text": [
      "criteria:\n",
      "  AIC: 100\n",
      "model_id: M1_1_0\n",
      "parameters:\n",
      "  k1: 0.2\n",
      "  k2: 0.1\n",
      "  k3: estimate\n",
      "estimated_parameters:\n",
      "  k3: 0.0\n",
      "petab_yaml: ../model_selection/example_modelSelection.yaml\n",
      "\n"
     ]
    }
   ],
   "source": [
    "with open('model_selection/calibrated/M1_1_0.yaml', 'r') as f:\n",
    "    print(f.read())"
   ]
  },
  {
   "cell_type": "markdown",
   "id": "839a1b35",
   "metadata": {},
   "source": [
    "This is used as the initial model for the next search, this time using the forward method. The same state file can be used in each call. If the output file already exists, it will be overwritten."
   ]
  },
  {
   "cell_type": "code",
   "execution_count": 5,
   "id": "22dfcc1f",
   "metadata": {},
   "outputs": [
    {
     "name": "stderr",
     "output_type": "stream",
     "text": [
      "/home/dilan/Documents/future_annex/model_selection/packages/draft_model_selection_extension/petab_select/model.py:165: UserWarning: Ignoring unknown attributes: estimated_parameters\n",
      "  warnings.warn(\n"
     ]
    }
   ],
   "source": [
    "%%bash\n",
    "\n",
    "petab_select search \\\n",
    "-y model_selection/selection_problem.yaml \\\n",
    "-s output/state.dill \\\n",
    "-o output/models.yaml \\\n",
    "-m forward \\\n",
    "-i model_selection/calibrated/M1_1_0.yaml"
   ]
  },
  {
   "cell_type": "markdown",
   "id": "ac1f8a5f",
   "metadata": {},
   "source": [
    "`M1_1_0` has one estimated parameter, `k3` [1]. As expected, the new candidates identified with the forward method have two estimated parameters, and one of them is `k3`.\n",
    "\n",
    "[1] There may be additional estimated parameters specified in the PEtab problem."
   ]
  },
  {
   "cell_type": "code",
   "execution_count": 6,
   "id": "dd2f8850",
   "metadata": {},
   "outputs": [
    {
     "name": "stdout",
     "output_type": "stream",
     "text": [
      "- criteria: null\n",
      "  model_id: M1_4_0\n",
      "  parameters:\n",
      "    k1: 0.2\n",
      "    k2: estimate\n",
      "    k3: estimate\n",
      "  petab_yaml: model_selection/example_modelSelection.yaml\n",
      "- criteria: null\n",
      "  model_id: M1_5_0\n",
      "  parameters:\n",
      "    k1: estimate\n",
      "    k2: 0.1\n",
      "    k3: estimate\n",
      "  petab_yaml: model_selection/example_modelSelection.yaml\n",
      "\n"
     ]
    }
   ],
   "source": [
    "with open('output/models.yaml', 'r') as f:\n",
    "    print(f.read())"
   ]
  },
  {
   "cell_type": "markdown",
   "id": "541a3e5d",
   "metadata": {},
   "source": [
    "## Third iteration"
   ]
  },
  {
   "cell_type": "markdown",
   "id": "afba880c",
   "metadata": {},
   "source": [
    "Models `M1_4_0` and `M1_5_0` were calibrated, with `M1_4_0` having the superior criterion value, so is used as the initial model in the next forward search."
   ]
  },
  {
   "cell_type": "code",
   "execution_count": 7,
   "id": "54c5b027",
   "metadata": {},
   "outputs": [
    {
     "name": "stdout",
     "output_type": "stream",
     "text": [
      "criteria:\n",
      "  AIC: 50\n",
      "model_id: M1_4_0\n",
      "parameters:\n",
      "  k1: 0.2\n",
      "  k2: estimate\n",
      "  k3: estimate\n",
      "estimated_parameters:\n",
      "  k2: 0.15\n",
      "  k3: 0.0\n",
      "petab_yaml: ../model_selection/example_modelSelection.yaml\n",
      "\n"
     ]
    }
   ],
   "source": [
    "with open('model_selection/calibrated/M1_4_0.yaml', 'r') as f:\n",
    "    print(f.read())"
   ]
  },
  {
   "cell_type": "code",
   "execution_count": 8,
   "id": "818e59e4",
   "metadata": {},
   "outputs": [
    {
     "name": "stderr",
     "output_type": "stream",
     "text": [
      "/home/dilan/Documents/future_annex/model_selection/packages/draft_model_selection_extension/petab_select/model.py:165: UserWarning: Ignoring unknown attributes: estimated_parameters\n",
      "  warnings.warn(\n"
     ]
    }
   ],
   "source": [
    "%%bash\n",
    "\n",
    "petab_select search \\\n",
    "-y model_selection/selection_problem.yaml \\\n",
    "-s output/state.dill \\\n",
    "-o output/models.yaml \\\n",
    "-m forward \\\n",
    "-i model_selection/calibrated/M1_4_0.yaml"
   ]
  },
  {
   "cell_type": "markdown",
   "id": "889dedc1",
   "metadata": {},
   "source": [
    "The model space contains only one model with 3 or more estimated parameters, which is a valid candidate model in this case."
   ]
  },
  {
   "cell_type": "code",
   "execution_count": 9,
   "id": "9f393030",
   "metadata": {},
   "outputs": [
    {
     "name": "stdout",
     "output_type": "stream",
     "text": [
      "- criteria: null\n",
      "  model_id: M1_7_0\n",
      "  parameters:\n",
      "    k1: estimate\n",
      "    k2: estimate\n",
      "    k3: estimate\n",
      "  petab_yaml: model_selection/example_modelSelection.yaml\n",
      "\n"
     ]
    }
   ],
   "source": [
    "with open('output/models.yaml', 'r') as f:\n",
    "    print(f.read())"
   ]
  },
  {
   "cell_type": "markdown",
   "id": "de959e53",
   "metadata": {},
   "source": [
    "## Fourth iteration\n",
    "As there are no models in the model space with additional estimated parameters, subsequent forward searches will return no candidate models."
   ]
  },
  {
   "cell_type": "code",
   "execution_count": 10,
   "id": "9ef2fe2f",
   "metadata": {},
   "outputs": [
    {
     "name": "stdout",
     "output_type": "stream",
     "text": [
      "criteria:\n",
      "  AIC: 40\n",
      "model_id: M1_7_0\n",
      "parameters:\n",
      "  k1: estimate\n",
      "  k2: estimate\n",
      "  k3: estimate\n",
      "estimated_parameters:\n",
      "  k1: 0.25\n",
      "  k2: 0.1\n",
      "  k3: 0.0\n",
      "petab_yaml: ../model_selection/example_modelSelection.yaml\n",
      "\n"
     ]
    }
   ],
   "source": [
    "with open('model_selection/calibrated/M1_7_0.yaml', 'r') as f:\n",
    "    print(f.read())"
   ]
  },
  {
   "cell_type": "code",
   "execution_count": 11,
   "id": "5afa0d08",
   "metadata": {},
   "outputs": [
    {
     "name": "stderr",
     "output_type": "stream",
     "text": [
      "/home/dilan/Documents/future_annex/model_selection/packages/draft_model_selection_extension/petab_select/model.py:165: UserWarning: Ignoring unknown attributes: estimated_parameters\n",
      "  warnings.warn(\n"
     ]
    }
   ],
   "source": [
    "%%bash\n",
    "\n",
    "petab_select search \\\n",
    "-y model_selection/selection_problem.yaml \\\n",
    "-s output/state.dill \\\n",
    "-o output/models.yaml \\\n",
    "-m forward \\\n",
    "-i model_selection/calibrated/M1_7_0.yaml"
   ]
  },
  {
   "cell_type": "code",
   "execution_count": 12,
   "id": "97cdb98d",
   "metadata": {},
   "outputs": [
    {
     "name": "stdout",
     "output_type": "stream",
     "text": [
      "null\n",
      "...\n",
      "\n"
     ]
    }
   ],
   "source": [
    "with open('output/models.yaml', 'r') as f:\n",
    "    print(f.read())"
   ]
  },
  {
   "cell_type": "markdown",
   "id": "7b0b1123",
   "metadata": {},
   "source": [
    "## Fifth iteration\n",
    "Although no additional models are found with a forward search initialized at the best model so far (`M1_7_0`), there are additional models in the model space that are yet to be calibrated, which can be identified with the brute force method."
   ]
  },
  {
   "cell_type": "code",
   "execution_count": 13,
   "id": "d5b5087d",
   "metadata": {},
   "outputs": [],
   "source": [
    "%%bash\n",
    "\n",
    "petab_select search \\\n",
    "-y model_selection/selection_problem.yaml \\\n",
    "-s output/state.dill \\\n",
    "-o output/models.yaml \\\n",
    "-m brute_force"
   ]
  },
  {
   "cell_type": "code",
   "execution_count": 14,
   "id": "30721bfa",
   "metadata": {},
   "outputs": [
    {
     "name": "stdout",
     "output_type": "stream",
     "text": [
      "- criteria: null\n",
      "  model_id: M1_3_0\n",
      "  parameters:\n",
      "    k1: estimate\n",
      "    k2: 0.1\n",
      "    k3: 0.0\n",
      "  petab_yaml: model_selection/example_modelSelection.yaml\n",
      "- criteria: null\n",
      "  model_id: M1_6_0\n",
      "  parameters:\n",
      "    k1: estimate\n",
      "    k2: estimate\n",
      "    k3: 0.0\n",
      "  petab_yaml: model_selection/example_modelSelection.yaml\n",
      "\n"
     ]
    }
   ],
   "source": [
    "with open('output/models.yaml', 'r') as f:\n",
    "    print(f.read())"
   ]
  }
 ],
 "metadata": {
  "kernelspec": {
   "display_name": "Python 3",
   "language": "python",
   "name": "python3"
  },
  "language_info": {
   "codemirror_mode": {
    "name": "ipython",
    "version": 3
   },
   "file_extension": ".py",
   "mimetype": "text/x-python",
   "name": "python",
   "nbconvert_exporter": "python",
   "pygments_lexer": "ipython3",
   "version": "3.8.10"
  }
 },
 "nbformat": 4,
 "nbformat_minor": 5
}
