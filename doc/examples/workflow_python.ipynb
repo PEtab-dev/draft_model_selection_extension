{
 "cells": [
  {
   "cell_type": "markdown",
   "id": "6c1bc86d",
   "metadata": {},
   "source": [
    "# Example usage with Python 3\n",
    "This notebook demonstrates usage of `petab_select` to perform forward selection in a Python 3 script."
   ]
  },
  {
   "cell_type": "markdown",
   "id": "9e42ea66",
   "metadata": {},
   "source": [
    "## Problem setup with initial model"
   ]
  },
  {
   "cell_type": "markdown",
   "id": "427cbd52",
   "metadata": {},
   "source": [
    "Dependencies are imported. A model selection problem is loaded from the specification files."
   ]
  },
  {
   "cell_type": "code",
   "execution_count": 1,
   "id": "eab391ee",
   "metadata": {},
   "outputs": [],
   "source": [
    "import petab_select\n",
    "from petab_select import (\n",
    "    Model,\n",
    "    ForwardCandidateSpace,\n",
    ")\n",
    "selection_problem = petab_select.Problem.from_yaml('model_selection/selection_problem.yaml')\n",
    "model_space = selection_problem.model_space"
   ]
  },
  {
   "cell_type": "markdown",
   "id": "d8008447",
   "metadata": {},
   "source": [
    "The initial model is setup. This is a virtual model in the sense that it may be an invalid model from the perspective of the modeller. The initial model has no estimated parameters."
   ]
  },
  {
   "cell_type": "code",
   "execution_count": 2,
   "id": "703da45d",
   "metadata": {},
   "outputs": [],
   "source": [
    "parameters = {\n",
    "    k: 0.0\n",
    "    for k in model_space.parameter_ids\n",
    "}\n",
    "\n",
    "initial_virtual_model = Model(\n",
    "    model_id='INITIAL_VIRTUAL_MODEL',\n",
    "    petab_yaml='.',\n",
    "    parameters=parameters,\n",
    ")"
   ]
  },
  {
   "cell_type": "markdown",
   "id": "88172819",
   "metadata": {},
   "source": [
    "## First iteration\n",
    "\n",
    "Neighbors of the initial model in the model space are identified for testing."
   ]
  },
  {
   "cell_type": "markdown",
   "id": "080d08d4",
   "metadata": {},
   "source": [
    "The model candidate space is setup with the initial model. The model space is then used to find neighbors to the initial model. The candidate space is used to calculate distances between models, and whether a candidate model represents a valid move in model space.\n",
    "\n",
    "The in-built `ForwardCandidateSpace` uses the following properties to identify candidate models:\n",
    "- previously estimated parameters must not be fixed;\n",
    "- the number of estimated parameters must increase; and\n",
    "- the increase in the number of estimated parameters must be minimal.\n",
    "\n",
    "The model space keeps a history of identified neighbors, such that subsequent calls ignore previously identified neighbors. This can be disabled by changing usage to `petab_select.ModelSpace.neighbors(..., exclude=False)`, or reset to forget all history with `petab_select.ModelSpace.reset()`."
   ]
  },
  {
   "cell_type": "code",
   "execution_count": 3,
   "id": "f0f327ad",
   "metadata": {},
   "outputs": [],
   "source": [
    "candidate_space = petab_select.ForwardCandidateSpace(initial_virtual_model)\n",
    "test_models = model_space.neighbors(candidate_space)"
   ]
  },
  {
   "cell_type": "code",
   "execution_count": 4,
   "id": "edefa697",
   "metadata": {},
   "outputs": [
    {
     "name": "stdout",
     "output_type": "stream",
     "text": [
      "M1_1_0\n",
      "M1_2_0\n",
      "M1_3_0\n"
     ]
    }
   ],
   "source": [
    "for test_model in test_models:\n",
    "    print(test_model.model_id)"
   ]
  },
  {
   "cell_type": "markdown",
   "id": "55450f0f",
   "metadata": {},
   "source": [
    "Each of the test models includes information that should be sufficient for model calibration with any suitable tool that supports PEtab.\n",
    "\n",
    "NB: the `petab_yaml_path` is for the original PEtab problem, and would need to be customized by `parameters` to be the actual test model. `nan` indicates that a parameter should be estimated."
   ]
  },
  {
   "cell_type": "code",
   "execution_count": 5,
   "id": "7d30e986",
   "metadata": {},
   "outputs": [
    {
     "name": "stdout",
     "output_type": "stream",
     "text": [
      "Model ID: M1_3_0\n",
      "PEtab YAML path: model_selection/example_modelSelection.yaml\n",
      "Custom model parameters: {'k1': nan, 'k2': 0.1, 'k3': 0.0}\n"
     ]
    }
   ],
   "source": [
    "print(\n",
    "    f'Model ID: {test_model.model_id}\\n'\n",
    "    f'PEtab YAML path: {test_model.petab_yaml}\\n'\n",
    "    f'Custom model parameters: {test_model.parameters}'\n",
    ")"
   ]
  },
  {
   "cell_type": "markdown",
   "id": "e7104888",
   "metadata": {},
   "source": [
    "At this point, a model calibration tool is used to find the best of the test models, according to some criterion. PEtab select can select the best model from a collection of models that provide a value for this criterion, or a specific model can be supplied. Here, PEtab Select will be used to select the best model from multiple models. At the end of the following iterations, a specific model will be provided."
   ]
  },
  {
   "cell_type": "code",
   "execution_count": 6,
   "id": "0f027ef2",
   "metadata": {},
   "outputs": [],
   "source": [
    "# Set fake criterion values that might be the output of a model calibration tool.\n",
    "fake_criterion_values = {\n",
    "    'M1_1_0': 100,\n",
    "    'M1_2_0': 50,\n",
    "    'M1_3_0': 150,\n",
    "}\n",
    "for model in test_models:\n",
    "    model.set_criterion(selection_problem.criterion, fake_criterion_values[model.model_id])"
   ]
  },
  {
   "cell_type": "code",
   "execution_count": 7,
   "id": "1c51dd49",
   "metadata": {},
   "outputs": [
    {
     "name": "stdout",
     "output_type": "stream",
     "text": [
      "M1_2_0\n"
     ]
    }
   ],
   "source": [
    "chosen_model = selection_problem.get_best(test_models)\n",
    "print(chosen_model.model_id)"
   ]
  },
  {
   "cell_type": "markdown",
   "id": "031b2eaf",
   "metadata": {},
   "source": [
    "## Second iteration\n",
    "The process then repeats."
   ]
  },
  {
   "cell_type": "markdown",
   "id": "d5b167b4",
   "metadata": {},
   "source": [
    "The chosen model is used to reset the candidate space such that neighboring models are identified with respect to the chosen model."
   ]
  },
  {
   "cell_type": "code",
   "execution_count": 8,
   "id": "b15c30ea",
   "metadata": {},
   "outputs": [],
   "source": [
    "candidate_space.reset(chosen_model)\n",
    "test_models = model_space.neighbors(candidate_space)"
   ]
  },
  {
   "cell_type": "code",
   "execution_count": 9,
   "id": "5b6969ca",
   "metadata": {},
   "outputs": [
    {
     "name": "stdout",
     "output_type": "stream",
     "text": [
      "M1_4_0\n",
      "M1_6_0\n"
     ]
    }
   ],
   "source": [
    "for test_model in test_models:\n",
    "    print(test_model.model_id)"
   ]
  },
  {
   "cell_type": "markdown",
   "id": "935e065e",
   "metadata": {},
   "source": [
    "This time, the model calibration tool selects `M1_6_0`."
   ]
  },
  {
   "cell_type": "code",
   "execution_count": 10,
   "id": "69185082",
   "metadata": {},
   "outputs": [
    {
     "name": "stdout",
     "output_type": "stream",
     "text": [
      "M1_6_0\n"
     ]
    }
   ],
   "source": [
    "chosen_model = test_models[1]\n",
    "print(chosen_model.model_id)"
   ]
  },
  {
   "cell_type": "markdown",
   "id": "ab3e8077",
   "metadata": {},
   "source": [
    "## Third iteration"
   ]
  },
  {
   "cell_type": "code",
   "execution_count": 11,
   "id": "6d3468d3",
   "metadata": {},
   "outputs": [],
   "source": [
    "candidate_space.reset(chosen_model)\n",
    "test_models = model_space.neighbors(candidate_space)"
   ]
  },
  {
   "cell_type": "code",
   "execution_count": 12,
   "id": "6db6309b",
   "metadata": {},
   "outputs": [
    {
     "name": "stdout",
     "output_type": "stream",
     "text": [
      "M1_7_0\n"
     ]
    }
   ],
   "source": [
    "for test_model in test_models:\n",
    "    print(test_model.model_id)"
   ]
  },
  {
   "cell_type": "code",
   "execution_count": 13,
   "id": "26614e09",
   "metadata": {},
   "outputs": [
    {
     "name": "stdout",
     "output_type": "stream",
     "text": [
      "M1_7_0\n"
     ]
    }
   ],
   "source": [
    "chosen_model = test_models[0]\n",
    "print(chosen_model.model_id)"
   ]
  },
  {
   "cell_type": "markdown",
   "id": "4dca7bff",
   "metadata": {},
   "source": [
    "## Fourth iteration\n",
    "The `M1_7_0` model is the largest model in the model space, so no valid neighbors are identified for the forward selection method.\n",
    "\n",
    "At this point, the results of the model calibration tool for the different models can be used to select the best model."
   ]
  },
  {
   "cell_type": "code",
   "execution_count": 14,
   "id": "9f9c438c",
   "metadata": {},
   "outputs": [],
   "source": [
    "candidate_space.reset(chosen_model)\n",
    "test_models = model_space.neighbors(candidate_space)"
   ]
  },
  {
   "cell_type": "code",
   "execution_count": 15,
   "id": "0dfff3e1",
   "metadata": {},
   "outputs": [],
   "source": [
    "for test_model in test_models:\n",
    "    print(test_model.model_id)"
   ]
  },
  {
   "cell_type": "code",
   "execution_count": 16,
   "id": "7cd2181c",
   "metadata": {},
   "outputs": [
    {
     "name": "stdout",
     "output_type": "stream",
     "text": [
      "[]\n"
     ]
    }
   ],
   "source": [
    "print(test_models)"
   ]
  },
  {
   "cell_type": "markdown",
   "id": "65d1f895",
   "metadata": {},
   "source": [
    "## Fifth iteration\n",
    "Note that there exist additional, uncalibrated models in the model space, which can be identified with the brute-force method."
   ]
  },
  {
   "cell_type": "code",
   "execution_count": 17,
   "id": "cacda13d",
   "metadata": {},
   "outputs": [],
   "source": [
    "candidate_space = petab_select.BruteForceCandidateSpace()\n",
    "test_models = model_space.neighbors(candidate_space)"
   ]
  },
  {
   "cell_type": "code",
   "execution_count": 18,
   "id": "75b19d96",
   "metadata": {},
   "outputs": [
    {
     "name": "stdout",
     "output_type": "stream",
     "text": [
      "M1_0_0\n",
      "M1_5_0\n"
     ]
    }
   ],
   "source": [
    "for test_model in test_models:\n",
    "    print(test_model.model_id)"
   ]
  }
 ],
 "metadata": {
  "kernelspec": {
   "display_name": "Python 3",
   "language": "python",
   "name": "python3"
  },
  "language_info": {
   "codemirror_mode": {
    "name": "ipython",
    "version": 3
   },
   "file_extension": ".py",
   "mimetype": "text/x-python",
   "name": "python",
   "nbconvert_exporter": "python",
   "pygments_lexer": "ipython3",
   "version": "3.8.10"
  }
 },
 "nbformat": 4,
 "nbformat_minor": 5
}
